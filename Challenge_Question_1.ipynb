{
  "nbformat": 4,
  "nbformat_minor": 0,
  "metadata": {
    "colab": {
      "provenance": []
    },
    "kernelspec": {
      "name": "python3",
      "display_name": "Python 3"
    },
    "language_info": {
      "name": "python"
    }
  },
  "cells": [
    {
      "cell_type": "markdown",
      "source": [
        "# Challenge Question 1"
      ],
      "metadata": {
        "id": "iY48hhPwmf05"
      }
    },
    {
      "cell_type": "code",
      "source": [
        "L = [\"Ram\", 1, \"Shyam\", 2, \"Aman\", 3]\n",
        "\n",
        "L1 = []\n",
        "L2=[]\n",
        "\n",
        "for i in L:\n",
        "  try:\n",
        "    x = int(i)\n",
        "    L1.append(i)\n",
        "  except:\n",
        "    L2.append(i)\n",
        "\n",
        "print(L1)\n",
        "print(L2)\n",
        "L1.sort()\n",
        "L2.sort()\n",
        "L3 = L2+L1\n",
        "L3"
      ],
      "metadata": {
        "colab": {
          "base_uri": "https://localhost:8080/"
        },
        "id": "yt3dJuhKmj8M",
        "outputId": "69e20cc8-66c5-4390-c735-abddff6d80fe"
      },
      "execution_count": 2,
      "outputs": [
        {
          "output_type": "stream",
          "name": "stdout",
          "text": [
            "[1, 2, 3]\n",
            "['Ram', 'Shyam', 'Aman']\n"
          ]
        },
        {
          "output_type": "execute_result",
          "data": {
            "text/plain": [
              "['Aman', 'Ram', 'Shyam', 1, 2, 3]"
            ]
          },
          "metadata": {},
          "execution_count": 2
        }
      ]
    }
  ]
}